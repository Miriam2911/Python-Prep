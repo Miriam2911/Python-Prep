{
 "cells": [
  {
   "attachments": {},
   "cell_type": "markdown",
   "metadata": {},
   "source": [
    "## Trabajo Practico 03"
   ]
  },
  {
   "attachments": {},
   "cell_type": "markdown",
   "metadata": {},
   "source": [
    " 1) Crear una variable que contenga un elemento del conjunto de números enteros y luego imprimir por pantalla si es mayor o menor a cero"
   ]
  },
  {
   "cell_type": "code",
   "execution_count": 2,
   "metadata": {},
   "outputs": [
    {
     "name": "stdout",
     "output_type": "stream",
     "text": [
      "-5 es menor que cero\n"
     ]
    }
   ],
   "source": [
    "n = -5\n",
    "if n > 0:\n",
    "    print(n, \"es mayor que cero\") \n",
    "if n < 0:\n",
    "    print(n, \"es menor que cero\") \n"
   ]
  },
  {
   "attachments": {},
   "cell_type": "markdown",
   "metadata": {},
   "source": [
    "2) Crear dos variables y un condicional que informe si son del mismo tipo de dato"
   ]
  },
  {
   "cell_type": "code",
   "execution_count": 4,
   "metadata": {},
   "outputs": [
    {
     "name": "stdout",
     "output_type": "stream",
     "text": [
      "son del mismo tipo\n"
     ]
    }
   ],
   "source": [
    "m = \"hola\"\n",
    "j = \"True\"\n",
    "\n",
    "if type(m) == type (j):\n",
    "    print(\"son del mismo tipo\")\n",
    "else:\n",
    "    print(\"son distintos\")"
   ]
  },
  {
   "attachments": {},
   "cell_type": "markdown",
   "metadata": {},
   "source": [
    "3) Para los valores enteros del 1 al 20, imprimir por pantalla si es par o impar\n"
   ]
  },
  {
   "cell_type": "code",
   "execution_count": 5,
   "metadata": {},
   "outputs": [
    {
     "name": "stdout",
     "output_type": "stream",
     "text": [
      "1 es impar\n",
      "2 es par\n",
      "3 es impar\n",
      "4 es par\n",
      "5 es impar\n",
      "6 es par\n",
      "7 es impar\n",
      "8 es par\n",
      "9 es impar\n",
      "10 es par\n",
      "11 es impar\n",
      "12 es par\n",
      "13 es impar\n",
      "14 es par\n",
      "15 es impar\n",
      "16 es par\n",
      "17 es impar\n",
      "18 es par\n",
      "19 es impar\n",
      "20 es par\n"
     ]
    }
   ],
   "source": [
    "for i in range(1,21):\n",
    "    if i % 2 == 0:\n",
    "        print(i, \"es par\")\n",
    "    else:\n",
    "        print(i, \"es impar\")"
   ]
  },
  {
   "attachments": {},
   "cell_type": "markdown",
   "metadata": {},
   "source": [
    "4) En un ciclo for mostrar para los valores entre 0 y 5 el resultado de elevarlo a la potencia igual a 3"
   ]
  },
  {
   "cell_type": "code",
   "execution_count": 6,
   "metadata": {},
   "outputs": [
    {
     "name": "stdout",
     "output_type": "stream",
     "text": [
      "1 elevado a la 3 potencia es:  1\n",
      "2 elevado a la 3 potencia es:  8\n",
      "3 elevado a la 3 potencia es:  27\n",
      "4 elevado a la 3 potencia es:  64\n",
      "5 elevado a la 3 potencia es:  125\n"
     ]
    }
   ],
   "source": [
    "for i in range(1,6):\n",
    "    print(i,\"elevado a la 3 potencia es: \", i**3 )"
   ]
  },
  {
   "attachments": {},
   "cell_type": "markdown",
   "metadata": {},
   "source": [
    "5) Crear una variable que contenga un número entero y realizar un ciclo for la misma cantidad de ciclos"
   ]
  },
  {
   "cell_type": "code",
   "execution_count": 8,
   "metadata": {},
   "outputs": [
    {
     "name": "stdout",
     "output_type": "stream",
     "text": [
      "1\n",
      "2\n",
      "3\n",
      "4\n",
      "5\n"
     ]
    }
   ],
   "source": [
    "n = 5\n",
    "for i in range(1, (n+1)):\n",
    "    print(i)"
   ]
  },
  {
   "attachments": {},
   "cell_type": "markdown",
   "metadata": {},
   "source": [
    "6) Utilizar un ciclo while para realizar el factorial de un número guardado en una variable, sólo si la variable contiene un número entero mayor a 0"
   ]
  },
  {
   "cell_type": "code",
   "execution_count": 20,
   "metadata": {},
   "outputs": [
    {
     "name": "stdout",
     "output_type": "stream",
     "text": [
      "40320\n"
     ]
    }
   ],
   "source": [
    "n = 8\n",
    "factorial = n\n",
    "if type(n) == int:\n",
    "    if (n > 0):\n",
    "        while ( n > 1):\n",
    "            n -=1\n",
    "            factorial = factorial * n\n",
    "        print (factorial)\n",
    "    else:\n",
    "        print(\"positivo\")\n",
    "else:\n",
    "    print(\"entero\")"
   ]
  },
  {
   "attachments": {},
   "cell_type": "markdown",
   "metadata": {},
   "source": [
    "7) Crear un ciclo for dentro de un ciclo while"
   ]
  },
  {
   "cell_type": "code",
   "execution_count": 31,
   "metadata": {},
   "outputs": [
    {
     "name": "stdout",
     "output_type": "stream",
     "text": [
      "w 1\n",
      "w 2\n",
      "w 3\n",
      "w 4\n",
      "w 5\n",
      "f 1\n",
      "f 2\n",
      "f 3\n",
      "f 4\n"
     ]
    }
   ],
   "source": [
    "n = 0\n",
    "while ( n < 5):\n",
    "    n += 1\n",
    "    print (\"w\",n)\n",
    "for i in range(1, n):\n",
    "    print(\"f\", i)"
   ]
  },
  {
   "attachments": {},
   "cell_type": "markdown",
   "metadata": {},
   "source": [
    "8) Crear un ciclo while dentro de un ciclo for"
   ]
  },
  {
   "cell_type": "code",
   "execution_count": 34,
   "metadata": {},
   "outputs": [
    {
     "name": "stdout",
     "output_type": "stream",
     "text": [
      "f 1\n",
      "w 0\n",
      "w 1\n",
      "w 2\n",
      "w 3\n",
      "w 4\n",
      "f 2\n",
      "f 3\n",
      "f 4\n"
     ]
    }
   ],
   "source": [
    "n = 0\n",
    "for i in range(1,5):\n",
    "    print(\"f\",i)\n",
    "    while (n < 5):\n",
    "        print(\"w\", n)\n",
    "        n += 1"
   ]
  },
  {
   "attachments": {},
   "cell_type": "markdown",
   "metadata": {},
   "source": [
    "9) Imprimir los números primos existentes entre 0 y 30"
   ]
  },
  {
   "cell_type": "code",
   "execution_count": 57,
   "metadata": {},
   "outputs": [
    {
     "name": "stdout",
     "output_type": "stream",
     "text": [
      "2 es primo\n",
      "3 es primo\n",
      "5 es primo\n",
      "7 es primo\n",
      "11 es primo\n",
      "13 es primo\n",
      "17 es primo\n",
      "19 es primo\n",
      "23 es primo\n",
      "29 es primo\n"
     ]
    }
   ],
   "source": [
    "tope_rango = 30\n",
    "n = 2\n",
    "primo = True\n",
    "while (n < tope_rango):\n",
    "    for i in range(2,n):\n",
    "        if n % i == 0:\n",
    "            primo = False\n",
    "    if primo:\n",
    "        print(n, \"es primo\")\n",
    "    else:\n",
    "        primo = True\n",
    "    n+= 1\n"
   ]
  },
  {
   "attachments": {},
   "cell_type": "markdown",
   "metadata": {},
   "source": [
    "10) ¿Se puede mejorar el proceso del punto 9? Utilizar las sentencias break y/ó continue para tal fin"
   ]
  },
  {
   "cell_type": "code",
   "execution_count": 55,
   "metadata": {},
   "outputs": [
    {
     "name": "stdout",
     "output_type": "stream",
     "text": [
      "2 es primo\n",
      "3 es primo\n",
      "5 es primo\n",
      "7 es primo\n",
      "11 es primo\n",
      "13 es primo\n",
      "17 es primo\n",
      "19 es primo\n",
      "23 es primo\n",
      "29 es primo\n"
     ]
    }
   ],
   "source": [
    "tope_rango = 30\n",
    "n = 2\n",
    "primo = True\n",
    "while (n < tope_rango):\n",
    "    for i in range(2,n):\n",
    "        if n % i == 0:\n",
    "            primo = False\n",
    "            break\n",
    "    if primo:\n",
    "        print(n, \"es primo\")\n",
    "    else:\n",
    "        primo = True\n",
    "    n+= 1"
   ]
  },
  {
   "attachments": {},
   "cell_type": "markdown",
   "metadata": {},
   "source": [
    "11) En los puntos 9 y 10, se diseño un código que encuentra números primos y además se lo optimizó. ¿Es posible saber en qué medida se optimizó?"
   ]
  },
  {
   "cell_type": "code",
   "execution_count": 64,
   "metadata": {},
   "outputs": [
    {
     "name": "stdout",
     "output_type": "stream",
     "text": [
      "2 es primo\n",
      "3 es primo\n",
      "5 es primo\n",
      "7 es primo\n",
      "11 es primo\n",
      "13 es primo\n",
      "17 es primo\n",
      "19 es primo\n",
      "23 es primo\n",
      "29 es primo\n",
      "se realizaron 378 ciclos\n"
     ]
    }
   ],
   "source": [
    "contador1 = 0\n",
    "tope_rango = 30\n",
    "n = 2\n",
    "primo = True\n",
    "while (n < tope_rango):\n",
    "    for i in range(2,n):\n",
    "        if n % i == 0:\n",
    "            primo = False\n",
    "        contador1 += 1\n",
    "    if primo:\n",
    "        print(n, \"es primo\")\n",
    "    else:\n",
    "        primo = True\n",
    "    n+= 1\n",
    "print(\"se realizaron\",contador1, \"ciclos\")\n"
   ]
  },
  {
   "cell_type": "code",
   "execution_count": 65,
   "metadata": {},
   "outputs": [
    {
     "name": "stdout",
     "output_type": "stream",
     "text": [
      "2 es primo\n",
      "3 es primo\n",
      "5 es primo\n",
      "7 es primo\n",
      "11 es primo\n",
      "13 es primo\n",
      "17 es primo\n",
      "19 es primo\n",
      "23 es primo\n",
      "29 es primo\n",
      "se realizaron 116 ciclos\n"
     ]
    }
   ],
   "source": [
    "contador2 = 0\n",
    "tope_rango = 30\n",
    "n = 2\n",
    "primo = True\n",
    "while (n < tope_rango):\n",
    "    for i in range(2,n):\n",
    "        if n % i == 0:\n",
    "            primo = False\n",
    "            break\n",
    "        contador2 += 1\n",
    "    if primo:\n",
    "        print(n, \"es primo\")\n",
    "    else:\n",
    "        primo = True\n",
    "    n+= 1\n",
    "print(\"se realizaron\",contador2, \"ciclos\")\n",
    "\n"
   ]
  },
  {
   "cell_type": "code",
   "execution_count": 66,
   "metadata": {},
   "outputs": [
    {
     "name": "stdout",
     "output_type": "stream",
     "text": [
      " se mejoro un 30.687830687830687 %\n"
     ]
    }
   ],
   "source": [
    "print(\" se mejoro un\",contador2 / contador1 * 100, \"%\")"
   ]
  },
  {
   "attachments": {},
   "cell_type": "markdown",
   "metadata": {},
   "source": [
    "12) Si la cantidad de números que se evalúa es mayor a treinta, esa optimización crece?"
   ]
  },
  {
   "cell_type": "code",
   "execution_count": 69,
   "metadata": {},
   "outputs": [
    {
     "name": "stdout",
     "output_type": "stream",
     "text": [
      "se realizaron 1653 ciclos\n",
      "se realizaron 429 ciclos\n",
      " se mejoro un 25.952813067150636 %\n"
     ]
    }
   ],
   "source": [
    "contador1 = 0\n",
    "tope_rango = 60\n",
    "n = 2\n",
    "primo = True\n",
    "while (n < tope_rango):\n",
    "    for i in range(2,n):\n",
    "        if n % i == 0:\n",
    "            primo = False\n",
    "        contador1 += 1\n",
    "    #if primo:\n",
    "        #print(n, \"es primo\")\n",
    "    else:\n",
    "        primo = True\n",
    "    n+= 1\n",
    "print(\"se realizaron\",contador1, \"ciclos\")\n",
    "\n",
    "contador2 = 0\n",
    "tope_rango = 60\n",
    "n = 2\n",
    "primo = True\n",
    "while (n < tope_rango):\n",
    "    for i in range(2,n):\n",
    "        if n % i == 0:\n",
    "            primo = False\n",
    "            break\n",
    "        contador2 += 1\n",
    "    #if primo:\n",
    "        #print(n, \"es primo\")\n",
    "    else:\n",
    "        primo = True\n",
    "    n+= 1\n",
    "print(\"se realizaron\",contador2, \"ciclos\")\n",
    "print(\" se mejoro un\",contador2 / contador1 * 100, \"%\")"
   ]
  },
  {
   "attachments": {},
   "cell_type": "markdown",
   "metadata": {},
   "source": [
    "13) Aplicando continue, armar un ciclo while que solo imprima los valores divisibles por 12, dentro del rango de números de 100 a 300"
   ]
  },
  {
   "cell_type": "code",
   "execution_count": 74,
   "metadata": {},
   "outputs": [
    {
     "name": "stdout",
     "output_type": "stream",
     "text": [
      "108\n",
      "120\n",
      "132\n",
      "144\n",
      "156\n",
      "168\n",
      "180\n",
      "192\n",
      "204\n",
      "216\n",
      "228\n",
      "240\n",
      "252\n",
      "264\n",
      "276\n",
      "288\n",
      "300\n"
     ]
    }
   ],
   "source": [
    "n = 99\n",
    "while (n<300):\n",
    "    n+=1\n",
    "    if n % 12 == 0:\n",
    "        print(n)\n",
    "        continue"
   ]
  },
  {
   "attachments": {},
   "cell_type": "markdown",
   "metadata": {},
   "source": [
    "14) Utilizar la función **input()** que permite hacer ingresos por teclado, para encontrar números primos y dar la opción al usario de buscar el siguiente"
   ]
  },
  {
   "cell_type": "code",
   "execution_count": 3,
   "metadata": {},
   "outputs": [
    {
     "name": "stdout",
     "output_type": "stream",
     "text": [
      "2 es primo\n",
      "3 es primo\n",
      "5 es primo\n",
      "no es valido\n"
     ]
    }
   ],
   "source": [
    "tope_rango = 30\n",
    "n = 2\n",
    "primo = True\n",
    "while (n < tope_rango):\n",
    "    for i in range(2,n):\n",
    "        if n % i == 0:\n",
    "            primo = False  \n",
    "            break          \n",
    "    if primo:\n",
    "        print(n, \"es primo\")\n",
    "        if input() != \"1\":\n",
    "            print (\"no es valido\")\n",
    "            break\n",
    "    else:\n",
    "        primo = True\n",
    "    n+= 1"
   ]
  },
  {
   "attachments": {},
   "cell_type": "markdown",
   "metadata": {},
   "source": [
    "15) Crear un ciclo while que encuentre dentro del rango de 100 a 300 el primer número divisible por 3 y además múltiplo de 6"
   ]
  },
  {
   "cell_type": "code",
   "execution_count": 5,
   "metadata": {},
   "outputs": [
    {
     "name": "stdout",
     "output_type": "stream",
     "text": [
      "102\n"
     ]
    }
   ],
   "source": [
    "n = 99\n",
    "while(n < 300):\n",
    "    if n % 6 == 0:\n",
    "        print(n)\n",
    "        break\n",
    "    n+=1"
   ]
  }
 ],
 "metadata": {
  "kernelspec": {
   "display_name": "Python 3",
   "language": "python",
   "name": "python3"
  },
  "language_info": {
   "codemirror_mode": {
    "name": "ipython",
    "version": 3
   },
   "file_extension": ".py",
   "mimetype": "text/x-python",
   "name": "python",
   "nbconvert_exporter": "python",
   "pygments_lexer": "ipython3",
   "version": "3.11.3"
  },
  "orig_nbformat": 4
 },
 "nbformat": 4,
 "nbformat_minor": 2
}
