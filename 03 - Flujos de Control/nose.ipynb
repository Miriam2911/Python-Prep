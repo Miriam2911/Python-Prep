{
 "cells": [
  {
   "cell_type": "code",
   "execution_count": 15,
   "metadata": {},
   "outputs": [
    {
     "name": "stdout",
     "output_type": "stream",
     "text": [
      "numero entero\n"
     ]
    }
   ],
   "source": [
    "f = 5.8\n",
    "if (type(f) == int):\n",
    "   if (f > 0): \n",
    "        factorial = f\n",
    "        while (f > 2):\n",
    "            f -= 1\n",
    "            factorial = factorial * f\n",
    "        print (factorial)\n",
    "   else:\n",
    "       print(\"numero positivo\")\n",
    "else:\n",
    "    print(\"numero entero\")"
   ]
  },
  {
   "cell_type": "code",
   "execution_count": 21,
   "metadata": {},
   "outputs": [
    {
     "name": "stdout",
     "output_type": "stream",
     "text": [
      "3\n",
      "5\n",
      "7\n",
      "9\n",
      "11\n",
      "13\n",
      "15\n",
      "17\n",
      "19\n"
     ]
    }
   ],
   "source": [
    "tope_range = 20\n",
    "n = 2\n",
    "primo = True\n",
    "while ( n < tope_range):\n",
    "    for i in (2, n+1):\n",
    "        if n % i == 0:\n",
    "            primo = False\n",
    "    if primo:\n",
    "        print(n)\n",
    "    else:\n",
    "        primo = True\n",
    "    n += 1"
   ]
  }
 ],
 "metadata": {
  "kernelspec": {
   "display_name": "Python 3",
   "language": "python",
   "name": "python3"
  },
  "language_info": {
   "codemirror_mode": {
    "name": "ipython",
    "version": 3
   },
   "file_extension": ".py",
   "mimetype": "text/x-python",
   "name": "python",
   "nbconvert_exporter": "python",
   "pygments_lexer": "ipython3",
   "version": "3.11.3"
  },
  "orig_nbformat": 4
 },
 "nbformat": 4,
 "nbformat_minor": 2
}
