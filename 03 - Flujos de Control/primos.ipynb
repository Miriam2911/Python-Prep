{
 "cells": [
  {
   "cell_type": "code",
   "execution_count": 31,
   "metadata": {},
   "outputs": [
    {
     "name": "stdout",
     "output_type": "stream",
     "text": [
      "3 es numero primo\n",
      "5 es numero primo\n",
      "7 es numero primo\n",
      "9 es numero primo\n"
     ]
    }
   ],
   "source": [
    "tope_rango = 10\n",
    "n= 2\n",
    "primo = True \n",
    "while(n < tope_rango):\n",
    "    for i in (2,n):\n",
    "        if ( n % i == 0):\n",
    "            primo = False\n",
    "        if primo:\n",
    "            print(n,\"es numero primo\")\n",
    "    else:\n",
    "        primo = True\n",
    "    n += 1"
   ]
  },
  {
   "cell_type": "code",
   "execution_count": 43,
   "metadata": {},
   "outputs": [
    {
     "name": "stdout",
     "output_type": "stream",
     "text": [
      "3\n",
      "5\n",
      "7\n",
      "9\n",
      "11\n",
      "13\n",
      "15\n",
      "17\n",
      "19\n",
      "21\n",
      "23\n",
      "25\n",
      "27\n",
      "29\n"
     ]
    }
   ],
   "source": [
    "tope_rango = 30\n",
    "n = 2\n",
    "primo = True\n",
    "while (n < tope_rango):\n",
    "    for i in (2, n):\n",
    "        if (n % i == 0):\n",
    "            primo = False\n",
    "        if primo:\n",
    "            print(n)\n",
    "    else:\n",
    "        primo = True\n",
    "    n += 1"
   ]
  },
  {
   "cell_type": "code",
   "execution_count": 71,
   "metadata": {},
   "outputs": [
    {
     "name": "stdout",
     "output_type": "stream",
     "text": [
      "2\n"
     ]
    }
   ],
   "source": [
    "m = 5\n",
    "\n",
    "if (type(m) == int):\n",
    "    if (m> 0):\n",
    "        factorial =m\n",
    "        while ( m > 2):\n",
    "            m -= 1\n",
    "            factorial = factorial * m\n",
    "        print(m)\n",
    "    else:\n",
    "        print(\"tiene que ser un numero positivo\")\n",
    "else: \n",
    "    print(\"tiene que ser un numero entero\")"
   ]
  },
  {
   "cell_type": "code",
   "execution_count": 72,
   "metadata": {},
   "outputs": [
    {
     "name": "stdout",
     "output_type": "stream",
     "text": [
      "120\n"
     ]
    }
   ],
   "source": [
    "f = 5\n",
    "factorial = 1\n",
    "for i in range(2,(f+1)):\n",
    "    factorial = factorial * i\n",
    "print (factorial)"
   ]
  },
  {
   "cell_type": "code",
   "execution_count": 75,
   "metadata": {},
   "outputs": [
    {
     "name": "stdout",
     "output_type": "stream",
     "text": [
      "2\n"
     ]
    }
   ],
   "source": [
    "f = 5\n",
    "factorial = f\n",
    "while (f > 2):\n",
    "    f -= 1\n",
    "    factorial = factorial * f\n",
    "print(f)"
   ]
  },
  {
   "cell_type": "code",
   "execution_count": 73,
   "metadata": {},
   "outputs": [
    {
     "name": "stdout",
     "output_type": "stream",
     "text": [
      "El factorial es 120\n"
     ]
    }
   ],
   "source": [
    "n = 5\n",
    "factorial = n\n",
    "while (n > 2):\n",
    "    n = n - 1\n",
    "    factorial = factorial * n\n",
    "print('El factorial es', factorial)"
   ]
  },
  {
   "cell_type": "code",
   "execution_count": 14,
   "metadata": {},
   "outputs": [
    {
     "name": "stdout",
     "output_type": "stream",
     "text": [
      "0 es primo\n",
      "1 es primo\n",
      "2 es primo\n",
      "3 es primo\n",
      "5 es primo\n",
      "7 es primo\n",
      "11 es primo\n",
      "13 es primo\n",
      "17 es primo\n",
      "19 es primo\n",
      "23 es primo\n",
      "29 es primo\n"
     ]
    }
   ],
   "source": [
    "tope_rango = 30\n",
    "n = 0\n",
    "primo = True\n",
    "while (n < tope_rango):\n",
    "    for j in range(2,n):\n",
    "        if n % j == 0:\n",
    "            primo = False\n",
    "    if primo:     \n",
    "        print(n, \"es primo\")\n",
    "    else: \n",
    "        primo = True\n",
    "    n +=1"
   ]
  },
  {
   "cell_type": "code",
   "execution_count": 23,
   "metadata": {},
   "outputs": [
    {
     "name": "stdout",
     "output_type": "stream",
     "text": [
      "0 es primo\n",
      "1 es primo\n",
      "2 es primo\n",
      "3 es primo\n",
      "5 es primo\n",
      "7 es primo\n",
      "11 es primo\n",
      "13 es primo\n",
      "17 es primo\n",
      "19 es primo\n",
      "23 es primo\n",
      "29 es primo\n"
     ]
    }
   ],
   "source": [
    "max = 30\n",
    "min = 0\n",
    "primo = True\n",
    "while ( min < max):\n",
    "    for i in range(2,min):\n",
    "        if min % i == 0:\n",
    "            primo = False\n",
    "    if primo:\n",
    "        print(min, \"es primo\")\n",
    "    else:\n",
    "        primo = True\n",
    "    min += 1"
   ]
  },
  {
   "cell_type": "code",
   "execution_count": 28,
   "metadata": {},
   "outputs": [
    {
     "name": "stdout",
     "output_type": "stream",
     "text": [
      "2 es numero primo\n",
      "3 es numero primo\n",
      "5 es numero primo\n",
      "7 es numero primo\n",
      "11 es numero primo\n",
      "13 es numero primo\n",
      "17 es numero primo\n",
      "19 es numero primo\n",
      "23 es numero primo\n",
      "29 es numero primo\n"
     ]
    }
   ],
   "source": [
    "tope_rango= 30\n",
    "n = 2\n",
    "primo = True\n",
    "while (n < tope_rango):\n",
    "    for i in range(2, n):\n",
    "        if (n % i == 0):\n",
    "            primo = False\n",
    "    if primo:\n",
    "        print(n, \"es numero primo\")\n",
    "    else:\n",
    "        primo = True\n",
    "    n += 1 "
   ]
  },
  {
   "cell_type": "code",
   "execution_count": 1,
   "metadata": {},
   "outputs": [
    {
     "name": "stdout",
     "output_type": "stream",
     "text": [
      "el factorial es: 120\n"
     ]
    }
   ],
   "source": [
    "m = 5\n",
    "if (type(m) == int):\n",
    "    if ( m > 0):\n",
    "        factorial = m\n",
    "        while ( m > 2):\n",
    "            m -= 1\n",
    "            factorial = factorial * m\n",
    "        print (\"el factorial es:\", factorial)\n",
    "    else:\n",
    "        print( \"debe ser un numero positivo\")\n",
    "else:\n",
    "    print(\"debe ser un numero entero\")\n"
   ]
  },
  {
   "cell_type": "code",
   "execution_count": 49,
   "metadata": {},
   "outputs": [
    {
     "name": "stdout",
     "output_type": "stream",
     "text": [
      "el numero debe ser positivo\n"
     ]
    }
   ],
   "source": [
    "n = -5\n",
    "if (type(n) == int):\n",
    "    if (n > 0):        \n",
    "        factorial = n\n",
    "        while (n > 2):\n",
    "            n -= 1\n",
    "            factorial = factorial * n   \n",
    "        print(\"el factorial es: \", factorial) \n",
    "    else:\n",
    "        print(\"el numero debe ser positivo\")\n",
    "else:\n",
    "    print(\"el numero debe ser entero\")"
   ]
  },
  {
   "cell_type": "code",
   "execution_count": 54,
   "metadata": {},
   "outputs": [
    {
     "name": "stdout",
     "output_type": "stream",
     "text": [
      "120\n"
     ]
    }
   ],
   "source": [
    "f = 5\n",
    "factorial = 1\n",
    "for l in range(1,(f+1)):\n",
    "    factorial = factorial * l\n",
    "print(factorial)"
   ]
  },
  {
   "cell_type": "code",
   "execution_count": 64,
   "metadata": {},
   "outputs": [
    {
     "name": "stdout",
     "output_type": "stream",
     "text": [
      "120\n"
     ]
    }
   ],
   "source": [
    "f = 5\n",
    "factorial = 1\n",
    "if type(f) == int:\n",
    "    if f > 0:\n",
    "        for l in range(1,(f+1)):\n",
    "            factorial = factorial * l\n",
    "        print(factorial)\n",
    "    else:\n",
    "        print(\"debe ser numero positivo\")\n",
    "else:\n",
    "    print(\" debe ser numero entero\")    "
   ]
  },
  {
   "cell_type": "code",
   "execution_count": null,
   "metadata": {},
   "outputs": [],
   "source": []
  },
  {
   "cell_type": "code",
   "execution_count": null,
   "metadata": {},
   "outputs": [],
   "source": []
  },
  {
   "cell_type": "code",
   "execution_count": 26,
   "metadata": {},
   "outputs": [
    {
     "name": "stdout",
     "output_type": "stream",
     "text": [
      "El numero 2  es primo\n",
      "El numero 3  es primo\n",
      "El numero 5  es primo\n",
      "El numero 7  es primo\n",
      "El numero 11  es primo\n",
      "El numero 13  es primo\n",
      "El numero 17  es primo\n",
      "El numero 19  es primo\n",
      "El numero 23  es primo\n",
      "El numero 29  es primo\n"
     ]
    }
   ],
   "source": [
    "tope_rango = 30\n",
    "p = 2\n",
    "if (type(p) == int):\n",
    "    if (p > 0):\n",
    "        primo = True       \n",
    "        while ( p < tope_rango):\n",
    "            for i in range(2,p):\n",
    "                if ( p % i == 0):\n",
    "                    primo = False\n",
    "            if primo:\n",
    "                print(\"El numero\", p,\" es primo\")\n",
    "            else:\n",
    "                primo = True\n",
    "            p+=1\n",
    "    else:\n",
    "        print(\" el numero debe ser positivo\")\n",
    "else:\n",
    "    print(\"El numero debe ser entero\")"
   ]
  },
  {
   "cell_type": "code",
   "execution_count": 76,
   "metadata": {},
   "outputs": [
    {
     "name": "stdout",
     "output_type": "stream",
     "text": [
      "2\n"
     ]
    }
   ],
   "source": [
    "f = 5\n",
    "factorial = f\n",
    "while (f > 2):\n",
    "    f -= 1\n",
    "    factorial = factorial * f\n",
    "print(f)"
   ]
  }
 ],
 "metadata": {
  "kernelspec": {
   "display_name": "Python 3",
   "language": "python",
   "name": "python3"
  },
  "language_info": {
   "codemirror_mode": {
    "name": "ipython",
    "version": 3
   },
   "file_extension": ".py",
   "mimetype": "text/x-python",
   "name": "python",
   "nbconvert_exporter": "python",
   "pygments_lexer": "ipython3",
   "version": "3.11.3"
  },
  "orig_nbformat": 4
 },
 "nbformat": 4,
 "nbformat_minor": 2
}
