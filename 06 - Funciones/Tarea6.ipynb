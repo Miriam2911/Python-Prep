{
 "cells": [
  {
   "attachments": {},
   "cell_type": "markdown",
   "metadata": {},
   "source": [
    "## Funciones"
   ]
  },
  {
   "attachments": {},
   "cell_type": "markdown",
   "metadata": {},
   "source": [
    "1) Crear una función que reciba un número como parámetro y devuelva True si es primo y False si no lo es"
   ]
  },
  {
   "cell_type": "code",
   "execution_count": 29,
   "metadata": {},
   "outputs": [],
   "source": [
    "def siguiente_primos(numero):\n",
    "    def primo (nro):\n",
    "        esprimo = True\n",
    "        for i in range(2,nro):\n",
    "            if nro % i == 0:\n",
    "                esprimo = False\n",
    "                break\n",
    "        return esprimo       \n",
    "    prx_primo = numero + 1\n",
    "    while (primo(prx_primo) == False): \n",
    "        prx_primo += 1          \n",
    "        return (prx_primo)    \n"
   ]
  },
  {
   "cell_type": "code",
   "execution_count": 30,
   "metadata": {},
   "outputs": [
    {
     "data": {
      "text/plain": [
       "11"
      ]
     },
     "execution_count": 30,
     "metadata": {},
     "output_type": "execute_result"
    }
   ],
   "source": [
    "proximo_primo(7)"
   ]
  },
  {
   "cell_type": "code",
   "execution_count": 27,
   "metadata": {},
   "outputs": [],
   "source": [
    "def proximo_primo(numero):\n",
    "    def primo (nro):\n",
    "        esprimo = True\n",
    "        for i in range(2,nro):\n",
    "            if nro % i == 0:\n",
    "                esprimo = False\n",
    "                break\n",
    "        return esprimo\n",
    "    prx_primo = numero + 1\n",
    "    while (primo(prx_primo) == False): \n",
    "        prx_primo += 1   \n",
    "        \n",
    "    return (prx_primo)    "
   ]
  },
  {
   "cell_type": "code",
   "execution_count": 28,
   "metadata": {},
   "outputs": [
    {
     "data": {
      "text/plain": [
       "11"
      ]
     },
     "execution_count": 28,
     "metadata": {},
     "output_type": "execute_result"
    }
   ],
   "source": [
    "proximo_primo(7)"
   ]
  },
  {
   "cell_type": "code",
   "execution_count": 1,
   "metadata": {},
   "outputs": [
    {
     "name": "stdout",
     "output_type": "stream",
     "text": [
      "[7, 7, 7, 7, 7, 7, 7]\n"
     ]
    }
   ],
   "source": [
    "numero = 7\n",
    "tope = 50    \n",
    "lista_divisibles = []\n",
    "\n",
    "for i in range(1, tope):\n",
    "    if i % numero == 0:\n",
    "        lista_divisibles.append(numero)\n",
    "\n",
    "print (lista_divisibles)\n"
   ]
  },
  {
   "attachments": {},
   "cell_type": "markdown",
   "metadata": {},
   "source": [
    "2) Utilizando la función del punto 1, realizar otra función que reciba de parámetro una lista de números y devuelva sólo aquellos que son primos en otra lista"
   ]
  },
  {
   "cell_type": "code",
   "execution_count": null,
   "metadata": {},
   "outputs": [],
   "source": []
  },
  {
   "cell_type": "code",
   "execution_count": 5,
   "metadata": {},
   "outputs": [],
   "source": [
    "def extraer_primo(lista):\n",
    "    primos = []\n",
    "    for num in (lista):\n",
    "        if primo (int(num)):\n",
    "            primos.append(num) \n",
    "    return primos\n"
   ]
  },
  {
   "cell_type": "code",
   "execution_count": 6,
   "metadata": {},
   "outputs": [],
   "source": [
    "lista2 = [1,2,5,7,8,10,13,14,15,17,20]"
   ]
  },
  {
   "cell_type": "code",
   "execution_count": 7,
   "metadata": {},
   "outputs": [
    {
     "data": {
      "text/plain": [
       "[1, 2, 5, 7, 13, 17]"
      ]
     },
     "execution_count": 7,
     "metadata": {},
     "output_type": "execute_result"
    }
   ],
   "source": [
    "extraer_primo(lista2)"
   ]
  },
  {
   "attachments": {},
   "cell_type": "markdown",
   "metadata": {},
   "source": [
    "3) Crear una función que al recibir una lista de números, devuelva el que más se repite y cuántas veces lo hace. Si hay más de un \"más repetido\", que devuelva cualquiera"
   ]
  },
  {
   "cell_type": "code",
   "execution_count": 8,
   "metadata": {},
   "outputs": [],
   "source": [
    "def valor_modal(lista):\n",
    "    lista_unicos = []\n",
    "    lista_repeticiones = []\n",
    "    if len(lista) == 0:\n",
    "        return None\n",
    "    for elemento in lista:\n",
    "        if elemento in lista_unicos:\n",
    "            i = lista_unicos.index(elemento)\n",
    "            lista_repeticiones[i] += 1\n",
    "        else:\n",
    "            lista_unicos.append(elemento)\n",
    "            lista_repeticiones.append(1)\n",
    "    moda = lista_unicos[0]\n",
    "    maximo = lista_repeticiones[0]\n",
    "    for i, elemento in enumerate(lista_unicos):\n",
    "        if lista_repeticiones[i] > maximo:\n",
    "            moda = lista_unicos[i]\n",
    "            maximo = lista_repeticiones[i]\n",
    "    return moda, maximo"
   ]
  },
  {
   "cell_type": "code",
   "execution_count": 11,
   "metadata": {},
   "outputs": [],
   "source": [
    "lista2 = [1,2,5,1,1,1,7,8,10,5,13,14,15,5,17,20]"
   ]
  },
  {
   "cell_type": "code",
   "execution_count": 12,
   "metadata": {},
   "outputs": [
    {
     "name": "stdout",
     "output_type": "stream",
     "text": [
      "el numero  5 se repite 3 veces\n"
     ]
    }
   ],
   "source": [
    "m , r = valor_modal(lista2)\n",
    "print(\"el numero \", m, \"se repite\",r,\"veces\")"
   ]
  },
  {
   "attachments": {},
   "cell_type": "markdown",
   "metadata": {},
   "source": [
    "4) A la función del punto 3, agregar un parámetro más, que permita elegir si se requiere el menor o el mayor de los mas repetidos."
   ]
  },
  {
   "cell_type": "code",
   "execution_count": 13,
   "metadata": {},
   "outputs": [],
   "source": [
    "def valor_modal(lista, menor):\n",
    "    '''\n",
    "    Esta función devuelve el valor modal y recibe de parámetros dos valores:\n",
    "    1-Una lista de números\n",
    "    2-Verdadero (por defecto) por si se requiere el mínimo de los más repetidos, o Falso si se requiere el máximo\n",
    "    '''\n",
    "    lista_unicos = []\n",
    "    lista_repeticiones = []\n",
    "    if len(lista) == 0:\n",
    "        return None\n",
    "    if (menor):\n",
    "        lista.sort()\n",
    "    else:\n",
    "        lista.sort(reverse=True)\n",
    "    for elemento in lista:\n",
    "        if elemento in lista_unicos:\n",
    "            i = lista_unicos.index(elemento)\n",
    "            lista_repeticiones[i] += 1\n",
    "        else:\n",
    "            lista_unicos.append(elemento)\n",
    "            lista_repeticiones.append(1)\n",
    "    moda = lista_unicos[0]\n",
    "    maximo = lista_repeticiones[0]\n",
    "    for i, elemento in enumerate(lista_unicos):\n",
    "        if lista_repeticiones[i] > maximo:\n",
    "            moda = lista_unicos[i]\n",
    "            maximo = lista_repeticiones[i]\n",
    "    return moda, maximo"
   ]
  },
  {
   "cell_type": "code",
   "execution_count": 20,
   "metadata": {},
   "outputs": [],
   "source": [
    "lista2 = [1,2,5,1,1,1,7,8,10,5,13,14,15,5,17,20]"
   ]
  },
  {
   "cell_type": "code",
   "execution_count": 22,
   "metadata": {},
   "outputs": [
    {
     "name": "stdout",
     "output_type": "stream",
     "text": [
      "1 4\n"
     ]
    }
   ],
   "source": [
    "m,r= valor_modal(lista2, False)\n",
    "print(m,r)\n"
   ]
  },
  {
   "attachments": {},
   "cell_type": "markdown",
   "metadata": {},
   "source": [
    "5) Crear una función que convierta entre grados Celsius, Farenheit y Kelvin<br>\n",
    "Fórmula 1\t: (°C × 9/5) + 32 = °F<br>\n",
    "Fórmula 2\t: °C + 273.15 = °K<br>\n",
    "Debe recibir 3 parámetros: el valor, la medida de orígen y la medida de destino\n"
   ]
  },
  {
   "cell_type": "code",
   "execution_count": 40,
   "metadata": {},
   "outputs": [],
   "source": [
    "def convertir_grados (valor, origen, destino):\n",
    "    if (origen == \"celsius\"):\n",
    "        if (destino == \"celsius\"):\n",
    "            valor_destino = valor\n",
    "        elif(destino == \"farenheit\"):\n",
    "            valor_destino = (valor * 9 / 5) + 32\n",
    "        elif(destino == \"kelvin\"):\n",
    "            valor_destino = valor + 273.15\n",
    "    if (origen == \"farenheit\"):\n",
    "        if (destino == \"farenheit\"):\n",
    "            valor_destino = valor\n",
    "        elif(destino == \"celsius\"):\n",
    "            valor_destino = ((valor -32) / 9 * 5)\n",
    "        elif(destino == \"kelvin\"):\n",
    "            valor_destino = ((valor -32))* 5 / 9 + 273.15\n",
    "    if (origen == \"kelvin\"):\n",
    "        if (destino == \"kelvin\"):\n",
    "            valor_destino = valor\n",
    "        elif(destino == \"farenheit\"):\n",
    "            valor_destino = ((valor - 273.15)*9/5)+32                        \n",
    "        elif(destino == \"celsius\"):\n",
    "            valor_destino = valor - 273.15\n",
    "    \n",
    "    return valor_destino\n",
    "\n"
   ]
  },
  {
   "cell_type": "code",
   "execution_count": 42,
   "metadata": {},
   "outputs": [
    {
     "name": "stdout",
     "output_type": "stream",
     "text": [
      "1 grado celsius es:  1 grados celsius\n",
      "1 grado celsius es:  33.8 grados farenheit\n",
      "1 grado celsius es:  274.15 grados kelvin\n",
      "1 grado farenheit es:  1 grados farenheit\n",
      "1 grado farenheit es:  -17.22222222222222 grados celsius\n",
      "1 grado farenheit es:  255.92777777777775 grados kelvin\n",
      "1 grado kelvin es:  1 grados kelvin\n",
      "1 grado kelvin es:  -457.87 grados farenheit\n",
      "1 grado kelvin es:  -272.15 grados celsius\n"
     ]
    }
   ],
   "source": [
    "print (\"1 grado celsius es: \",convertir_grados (1,\"celsius\",\"celsius\"),\"grados celsius\")\n",
    "print (\"1 grado celsius es: \",convertir_grados (1,\"celsius\",\"farenheit\"),\"grados farenheit\")\n",
    "print (\"1 grado celsius es: \",convertir_grados (1,\"celsius\",\"kelvin\"), \"grados kelvin\")\n",
    "print (\"1 grado farenheit es: \",convertir_grados (1,\"farenheit\",\"farenheit\"),\"grados farenheit\")\n",
    "print (\"1 grado farenheit es: \",convertir_grados (1,\"farenheit\",\"celsius\"),\"grados celsius\")\n",
    "print (\"1 grado farenheit es: \",convertir_grados (1,\"farenheit\",\"kelvin\"),\"grados kelvin\")\n",
    "print (\"1 grado kelvin es: \",convertir_grados (1,\"kelvin\",\"kelvin\"),\"grados kelvin\")\n",
    "print (\"1 grado kelvin es: \",convertir_grados (1,\"kelvin\",\"farenheit\"),\"grados farenheit\")\n",
    "print (\"1 grado kelvin es: \",convertir_grados (1,\"kelvin\",\"celsius\"),\"grados celsius\")"
   ]
  },
  {
   "attachments": {},
   "cell_type": "markdown",
   "metadata": {},
   "source": [
    "6) Iterando una lista con los tres valores posibles de temperatura que recibe la función del punto 5, hacer un print para cada combinación de los mismos:"
   ]
  },
  {
   "cell_type": "code",
   "execution_count": 43,
   "metadata": {},
   "outputs": [
    {
     "name": "stdout",
     "output_type": "stream",
     "text": [
      "1 grado celsius es:  1 grados celsius\n",
      "1 grado celsius es:  33.8 grados farenheit\n",
      "1 grado celsius es:  274.15 grados kelvin\n",
      "1 grado farenheit es:  1 grados farenheit\n",
      "1 grado farenheit es:  -17.22222222222222 grados celsius\n",
      "1 grado farenheit es:  255.92777777777775 grados kelvin\n",
      "1 grado kelvin es:  1 grados kelvin\n",
      "1 grado kelvin es:  -457.87 grados farenheit\n",
      "1 grado kelvin es:  -272.15 grados celsius\n"
     ]
    }
   ],
   "source": [
    "print (\"1 grado celsius es: \",convertir_grados (1,\"celsius\",\"celsius\"),\"grados celsius\")\n",
    "print (\"1 grado celsius es: \",convertir_grados (1,\"celsius\",\"farenheit\"),\"grados farenheit\")\n",
    "print (\"1 grado celsius es: \",convertir_grados (1,\"celsius\",\"kelvin\"), \"grados kelvin\")\n",
    "print (\"1 grado farenheit es: \",convertir_grados (1,\"farenheit\",\"farenheit\"),\"grados farenheit\")\n",
    "print (\"1 grado farenheit es: \",convertir_grados (1,\"farenheit\",\"celsius\"),\"grados celsius\")\n",
    "print (\"1 grado farenheit es: \",convertir_grados (1,\"farenheit\",\"kelvin\"),\"grados kelvin\")\n",
    "print (\"1 grado kelvin es: \",convertir_grados (1,\"kelvin\",\"kelvin\"),\"grados kelvin\")\n",
    "print (\"1 grado kelvin es: \",convertir_grados (1,\"kelvin\",\"farenheit\"),\"grados farenheit\")\n",
    "print (\"1 grado kelvin es: \",convertir_grados (1,\"kelvin\",\"celsius\"),\"grados celsius\")"
   ]
  },
  {
   "attachments": {},
   "cell_type": "markdown",
   "metadata": {},
   "source": [
    "7) Armar una función que devuelva el factorial de un número. Tener en cuenta que el usuario puede equivocarse y enviar de parámetro un número no entero o negativo"
   ]
  },
  {
   "cell_type": "code",
   "execution_count": 51,
   "metadata": {},
   "outputs": [],
   "source": [
    "def resolver_factorial(valor):\n",
    "    if type(valor ) != int:\n",
    "        return \"el numero debe ser entero\" \n",
    "    if valor < 0:\n",
    "        return \" el numero debe ser positivo\"\n",
    "    if valor > 0:\n",
    "        factorial = valor\n",
    "        for i in range(1, (valor)):\n",
    "            factorial = factorial * i\n",
    "    return factorial\n"
   ]
  },
  {
   "cell_type": "code",
   "execution_count": 52,
   "metadata": {},
   "outputs": [
    {
     "data": {
      "text/plain": [
       "120"
      ]
     },
     "execution_count": 52,
     "metadata": {},
     "output_type": "execute_result"
    }
   ],
   "source": [
    "resolver_factorial(5)"
   ]
  }
 ],
 "metadata": {
  "interpreter": {
   "hash": "c85384e4cb51c8b72350f3a8712cc8351fdc3955e32a27f9b60c6242ab125f01"
  },
  "kernelspec": {
   "display_name": "Python 3 (ipykernel)",
   "language": "python",
   "name": "python3"
  },
  "language_info": {
   "codemirror_mode": {
    "name": "ipython",
    "version": 3
   },
   "file_extension": ".py",
   "mimetype": "text/x-python",
   "name": "python",
   "nbconvert_exporter": "python",
   "pygments_lexer": "ipython3",
   "version": "3.11.3"
  }
 },
 "nbformat": 4,
 "nbformat_minor": 4
}
