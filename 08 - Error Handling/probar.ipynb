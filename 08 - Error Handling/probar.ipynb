{
 "cells": [
  {
   "cell_type": "code",
   "execution_count": 8,
   "metadata": {},
   "outputs": [],
   "source": [
    "def numeros_divisibles(numero, tope):\n",
    "  \n",
    "    lista_divisibles = []\n",
    "\n",
    "    for i in range(1, (tope+1)):\n",
    "        if i % numero == 0:\n",
    "            lista_divisibles.append(i)\n",
    "\n",
    "    return (lista_divisibles)\n",
    "\n"
   ]
  },
  {
   "cell_type": "code",
   "execution_count": 9,
   "metadata": {},
   "outputs": [
    {
     "data": {
      "text/plain": [
       "[6, 12, 18, 24, 30]"
      ]
     },
     "execution_count": 9,
     "metadata": {},
     "output_type": "execute_result"
    }
   ],
   "source": [
    "numeros_divisibles(6,30)"
   ]
  },
  {
   "cell_type": "code",
   "execution_count": 31,
   "metadata": {},
   "outputs": [],
   "source": [
    "def factorial(lista):\n",
    "    def factorial_numero(nro):\n",
    "        factorial_numero = 1\n",
    "        for m in range(2, (nro+1)):\n",
    "            factorial_numero = factorial_numero * m\n",
    "        return (factorial_numero)\n",
    "\n",
    "\n",
    "    lista_factorial = []\n",
    "    for i in (lista):\n",
    "        lista_factorial.append(factorial_numero(i))\n",
    "    return lista_factorial"
   ]
  },
  {
   "cell_type": "code",
   "execution_count": 29,
   "metadata": {},
   "outputs": [],
   "source": [
    "prueba = [2,3,4,5,6]"
   ]
  },
  {
   "cell_type": "code",
   "execution_count": 32,
   "metadata": {},
   "outputs": [
    {
     "data": {
      "text/plain": [
       "[2, 6, 24, 120, 720]"
      ]
     },
     "execution_count": 32,
     "metadata": {},
     "output_type": "execute_result"
    }
   ],
   "source": [
    "factorial(prueba)"
   ]
  },
  {
   "cell_type": "code",
   "execution_count": 18,
   "metadata": {},
   "outputs": [
    {
     "name": "stdout",
     "output_type": "stream",
     "text": [
      "120\n"
     ]
    }
   ],
   "source": [
    "nro = 5\n",
    "factorial = 1\n",
    "for m in range(2, (nro+1)):\n",
    "    factorial = factorial * m\n",
    "print (factorial )"
   ]
  },
  {
   "cell_type": "code",
   "execution_count": 54,
   "metadata": {},
   "outputs": [],
   "source": [
    "def exponente( numero, exponente):\n",
    "    exponente = numero ** exponente\n",
    "    return exponente"
   ]
  },
  {
   "cell_type": "code",
   "execution_count": 58,
   "metadata": {},
   "outputs": [
    {
     "data": {
      "text/plain": [
       "1"
      ]
     },
     "execution_count": 58,
     "metadata": {},
     "output_type": "execute_result"
    }
   ],
   "source": [
    "exponente(3,0)"
   ]
  },
  {
   "cell_type": "code",
   "execution_count": 48,
   "metadata": {},
   "outputs": [],
   "source": [
    "def lista_primos(desde,hasta):\n",
    "    def primo(nro):\n",
    "        esprimo = True\n",
    "        for i in range(2,nro):\n",
    "            if nro % i == 0:\n",
    "                esprimo = False               \n",
    "        return esprimo\n",
    "    \n",
    "   \n",
    "    lisprimo = []\n",
    "    for p in range(desde,(hasta+1)):\n",
    "        if primo(int(p)):\n",
    "            lisprimo.append(p)\n",
    "    return lisprimo\n",
    "\n"
   ]
  },
  {
   "cell_type": "code",
   "execution_count": 51,
   "metadata": {},
   "outputs": [
    {
     "data": {
      "text/plain": [
       "[67, 71, 73]"
      ]
     },
     "execution_count": 51,
     "metadata": {},
     "output_type": "execute_result"
    }
   ],
   "source": [
    "lista_primos(66,77)"
   ]
  },
  {
   "cell_type": "code",
   "execution_count": 52,
   "metadata": {},
   "outputs": [],
   "source": [
    "lista_primos = (1, 4)\n",
    "for m in list(lista_primos):\n",
    "    if type(m) != int:\n",
    "        print( None)\n",
    "    if m <= 0:\n",
    "        print (None)"
   ]
  },
  {
   "cell_type": "code",
   "execution_count": null,
   "metadata": {},
   "outputs": [],
   "source": [
    "listap = (a,b)\n"
   ]
  },
  {
   "cell_type": "code",
   "execution_count": 51,
   "metadata": {},
   "outputs": [],
   "source": [
    "def valor_modal(lista):\n",
    "    lista_repetidos = []\n",
    "    repeticiones = []\n",
    "    for elemento in lista:\n",
    "        if elemento in lista_repetidos:\n",
    "            m = lista_repetidos.index(elemento)\n",
    "            repeticiones[m] += 1\n",
    "        else:\n",
    "            lista_repetidos.append(elemento)\n",
    "            repeticiones.append(1)\n",
    "    moda = lista_repetidos[0]\n",
    "    veces = repeticiones[0]\n",
    "    for i, elemento in enumerate(lista_repetidos):\n",
    "        if repeticiones[i] > veces:\n",
    "            moda = lista_repetidos[i]\n",
    "            veces = repeticiones[i]\n",
    "    return moda, veces"
   ]
  },
  {
   "cell_type": "code",
   "execution_count": 52,
   "metadata": {},
   "outputs": [],
   "source": [
    "mun = [1,1,1,1,2,2,5,5,8,8,9,9]"
   ]
  },
  {
   "cell_type": "code",
   "execution_count": 53,
   "metadata": {},
   "outputs": [
    {
     "data": {
      "text/plain": [
       "(1, 4)"
      ]
     },
     "execution_count": 53,
     "metadata": {},
     "output_type": "execute_result"
    }
   ],
   "source": [
    "valor_modal(mun)"
   ]
  },
  {
   "cell_type": "code",
   "execution_count": 62,
   "metadata": {},
   "outputs": [],
   "source": [
    "def conversion_grados( valor, origen, destino):\n",
    "    if origen == 'celsius':\n",
    "        if destino == 'celsius':\n",
    "            valor_destino = valor\n",
    "        elif destino == 'farenheit':\n",
    "            valor_destino = (valor*9/5) + 32\n",
    "        elif destino == 'kelvin':\n",
    "            valor_destino = valor + 273.15\n",
    "        else:\n",
    "            print('parametros incorrectos')\n",
    "\n",
    "    if origen == 'farenheit':\n",
    "        if destino == 'farenheit':\n",
    "            valor_destino = valor\n",
    "        elif destino == 'celsius':\n",
    "            valor_destino = ((valor-32)/9*5)\n",
    "        elif destino == 'kelvin':\n",
    "            valor_destino = (((valor - 32)*5/9)) + 273.15\n",
    "        else:\n",
    "            print('parametros incorrectos')\n",
    "\n",
    "    if origen =='kelvin':\n",
    "        if destino == 'kelvin':\n",
    "            valor_destino = valor\n",
    "        elif destino == 'farenheit':\n",
    "            valor_destino = ((valor-273.15)*9/5) + 32\n",
    "        elif destino == 'celsius':\n",
    "            valor_destino = valor - 273.15\n",
    "        else:\n",
    "            print('parametros incorrectos')\n",
    "    return valor_destino"
   ]
  },
  {
   "cell_type": "code",
   "execution_count": 68,
   "metadata": {},
   "outputs": [
    {
     "name": "stdout",
     "output_type": "stream",
     "text": [
      "-272.15\n"
     ]
    }
   ],
   "source": [
    "print (conversion_grados(1, 'kelvin', 'celsius'))"
   ]
  },
  {
   "cell_type": "code",
   "execution_count": 41,
   "metadata": {},
   "outputs": [],
   "source": [
    "def siguiente_primos(numero):\n",
    "    def primo(nro):\n",
    "        esprimo = True\n",
    "        for i in range(2,nro):\n",
    "            if nro % i == 0:\n",
    "                esprimo = False\n",
    "        else:              \n",
    "            return esprimo\n",
    "    \n",
    "    \n",
    "    prx_primo = numero + 1\n",
    "    while (primo(prx_primo)) == False: \n",
    "        prx_primo += 1   \n",
    "        \n",
    "        return (prx_primo)    \n",
    "\n",
    "    "
   ]
  },
  {
   "cell_type": "code",
   "execution_count": 43,
   "metadata": {},
   "outputs": [
    {
     "data": {
      "text/plain": [
       "11"
      ]
     },
     "execution_count": 43,
     "metadata": {},
     "output_type": "execute_result"
    }
   ],
   "source": [
    "siguiente_primos(9)"
   ]
  },
  {
   "cell_type": "code",
   "execution_count": 25,
   "metadata": {},
   "outputs": [],
   "source": [
    "def primo(nro):\n",
    "    esprimo = True\n",
    "    for i in range(1,(nro+1)):\n",
    "        if nro % i == 0:\n",
    "            esprimo = False\n",
    "    else:              \n",
    "        return esprimo"
   ]
  },
  {
   "cell_type": "code",
   "execution_count": 38,
   "metadata": {},
   "outputs": [
    {
     "data": {
      "text/plain": [
       "False"
      ]
     },
     "execution_count": 38,
     "metadata": {},
     "output_type": "execute_result"
    }
   ],
   "source": [
    "primo(9)"
   ]
  },
  {
   "cell_type": "code",
   "execution_count": 9,
   "metadata": {},
   "outputs": [],
   "source": [
    "def proximo_primo(numero):\n",
    "    prx_primo = numero + 1\n",
    "    while (primo(prx_primo) == False): \n",
    "        prx_primo += 1   \n",
    "        \n",
    "        return (prx_primo)    \n"
   ]
  },
  {
   "cell_type": "code",
   "execution_count": 10,
   "metadata": {},
   "outputs": [
    {
     "data": {
      "text/plain": [
       "7"
      ]
     },
     "execution_count": 10,
     "metadata": {},
     "output_type": "execute_result"
    }
   ],
   "source": [
    "proximo_primo(5)"
   ]
  }
 ],
 "metadata": {
  "kernelspec": {
   "display_name": "Python 3",
   "language": "python",
   "name": "python3"
  },
  "language_info": {
   "codemirror_mode": {
    "name": "ipython",
    "version": 3
   },
   "file_extension": ".py",
   "mimetype": "text/x-python",
   "name": "python",
   "nbconvert_exporter": "python",
   "pygments_lexer": "ipython3",
   "version": "3.11.3"
  },
  "orig_nbformat": 4
 },
 "nbformat": 4,
 "nbformat_minor": 2
}
