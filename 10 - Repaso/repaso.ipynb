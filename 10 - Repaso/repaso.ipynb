{
 "cells": [
  {
   "cell_type": "code",
   "execution_count": 37,
   "metadata": {},
   "outputs": [],
   "source": [
    "def primo(nro):  \n",
    "    primo = True\n",
    "    for i in range(2,nro):\n",
    "        if nro % i == 0:\n",
    "            primo = False\n",
    "            break\n",
    "        return primo\n"
   ]
  },
  {
   "cell_type": "code",
   "execution_count": 2,
   "metadata": {},
   "outputs": [
    {
     "data": {
      "text/plain": [
       "True"
      ]
     },
     "execution_count": 2,
     "metadata": {},
     "output_type": "execute_result"
    }
   ],
   "source": [
    "primo(5)"
   ]
  },
  {
   "cell_type": "code",
   "execution_count": 83,
   "metadata": {},
   "outputs": [],
   "source": [
    "def proximoprimo(prim):\n",
    "    \n",
    "    def primo(nro):  \n",
    "        primo = True\n",
    "        for i in range(2,nro):\n",
    "            if nro % i == 0:\n",
    "                primo = False\n",
    "                break\n",
    "            return primo\n",
    "\n",
    "\n",
    "    if type(prim) != int:\n",
    "        return 'debe ser entero'\n",
    "    if prim <= 0:\n",
    "        return 'debe ser mayor de 0'\n",
    "    \n",
    "    elif primo(prim) == False:\n",
    "            return None\n",
    "    else:\n",
    "        segprim = primo(prim) + 1\n",
    "        while (primo(segprim) == False):\n",
    "             segprim += 1\n",
    "        return segprim             \n",
    "             \n",
    "          \n",
    "        \n"
   ]
  },
  {
   "cell_type": "code",
   "execution_count": 119,
   "metadata": {},
   "outputs": [
    {
     "ename": "TypeError",
     "evalue": "unsupported operand type(s) for +: 'NoneType' and 'int'",
     "output_type": "error",
     "traceback": [
      "\u001b[1;31m---------------------------------------------------------------------------\u001b[0m",
      "\u001b[1;31mTypeError\u001b[0m                                 Traceback (most recent call last)",
      "Cell \u001b[1;32mIn[119], line 1\u001b[0m\n\u001b[1;32m----> 1\u001b[0m proximoprimo(\u001b[39m8\u001b[39;49m)\n",
      "Cell \u001b[1;32mIn[83], line 19\u001b[0m, in \u001b[0;36mproximoprimo\u001b[1;34m(prim)\u001b[0m\n\u001b[0;32m     17\u001b[0m         \u001b[39mreturn\u001b[39;00m \u001b[39mNone\u001b[39;00m\n\u001b[0;32m     18\u001b[0m \u001b[39melse\u001b[39;00m:\n\u001b[1;32m---> 19\u001b[0m     segprim \u001b[39m=\u001b[39m primo(prim) \u001b[39m+\u001b[39;49m \u001b[39m1\u001b[39;49m\n\u001b[0;32m     20\u001b[0m     \u001b[39mwhile\u001b[39;00m (primo(segprim) \u001b[39m==\u001b[39m \u001b[39mFalse\u001b[39;00m):\n\u001b[0;32m     21\u001b[0m          segprim \u001b[39m+\u001b[39m\u001b[39m=\u001b[39m \u001b[39m1\u001b[39m\n",
      "\u001b[1;31mTypeError\u001b[0m: unsupported operand type(s) for +: 'NoneType' and 'int'"
     ]
    }
   ],
   "source": [
    "\n",
    "proximoprimo(8)"
   ]
  },
  {
   "cell_type": "code",
   "execution_count": 113,
   "metadata": {},
   "outputs": [],
   "source": [
    "def primo(nro):  \n",
    "    primo = True\n",
    "    for i in range(2,nro):\n",
    "        if nro % i == 0:\n",
    "            primo = False\n",
    "            break\n",
    "        return primo\n"
   ]
  },
  {
   "cell_type": "code",
   "execution_count": 133,
   "metadata": {},
   "outputs": [],
   "source": [
    "prim =11\n",
    "if type(prim) != int:\n",
    "        print ('debe ser entero')\n",
    "if prim <= 0:\n",
    "        print ('debe ser mayor de 0')\n",
    "\n",
    "elif primo(prim) == False:\n",
    "        psig = prim + 1\n",
    "        while (primo(psig) == False):\n",
    "                psig += 1\n",
    "        else:\n",
    "                print(psig)"
   ]
  }
 ],
 "metadata": {
  "kernelspec": {
   "display_name": "Python 3",
   "language": "python",
   "name": "python3"
  },
  "language_info": {
   "codemirror_mode": {
    "name": "ipython",
    "version": 3
   },
   "file_extension": ".py",
   "mimetype": "text/x-python",
   "name": "python",
   "nbconvert_exporter": "python",
   "pygments_lexer": "ipython3",
   "version": "3.11.3"
  },
  "orig_nbformat": 4
 },
 "nbformat": 4,
 "nbformat_minor": 2
}
